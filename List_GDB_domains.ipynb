{
  "nbformat": 4,
  "nbformat_minor": 0,
  "metadata": {
    "colab": {
      "provenance": [],
      "include_colab_link": true
    },
    "kernelspec": {
      "name": "python3",
      "display_name": "Python 3"
    },
    "language_info": {
      "name": "python"
    }
  },
  "cells": [
    {
      "cell_type": "markdown",
      "metadata": {
        "id": "view-in-github",
        "colab_type": "text"
      },
      "source": [
        "<a href=\"https://colab.research.google.com/github/rescobarcorrea/ArcGIS_DB_Managment/blob/main/List_GDB_domains.ipynb\" target=\"_parent\"><img src=\"https://colab.research.google.com/assets/colab-badge.svg\" alt=\"Open In Colab\"/></a>"
      ]
    },
    {
      "cell_type": "markdown",
      "metadata": {
        "id": "llG-JkGfnVMp"
      },
      "source": [
        "Code to list features and associated domains in a geo data base with arc py and arcgis pro"
      ]
    },
    {
      "cell_type": "code",
      "metadata": {
        "id": "s9qTnni5nTsU"
      },
      "source": [
        "#code to read GDB  featureclassses and its domains\n",
        "\n",
        "#Imports\n",
        "import arcpy\n",
        "import os\n",
        "import csv\n",
        "\n"
      ],
      "execution_count": null,
      "outputs": []
    },
    {
      "cell_type": "code",
      "metadata": {
        "id": "8AyUNrEqnkKI"
      },
      "source": [
        "#inputs, the path to the gdb conection and the location to save the csv\n",
        "#crate a gdb conection in your workspace and the get its path and paste it here:\n",
        "arcpy.env.workspace = r\"D:\\Users\\Rogger.Correa\\AppData\\Roaming\\Esri\\ArcGISPro\\Favorites\\GISM@awsgisdb.sde\"\n",
        "csv_path=r\"D:\\Users\\Rogger.Correa\\Downloads\\gdbstructure.csv\""
      ],
      "execution_count": null,
      "outputs": []
    },
    {
      "cell_type": "code",
      "metadata": {
        "id": "FeUGp3xAnmnN"
      },
      "source": [
        "#read datasets inside the gdb\n",
        "datasets = arcpy.ListDatasets(feature_type='feature')\n",
        "datasets = [''] + datasets if datasets is not None else []\n",
        "header=['Featureclass','FieldName','FieldType','Fieldlenght','FieldDomain']\n",
        "\n",
        "with open(csv_path,'w') as csv_file:\n",
        "    print('header')\n",
        "    w=csv.writer(csv_file)\n",
        "    w.writerow(header)\n",
        "    for ds in datasets:\n",
        "        print('##'+ds)\n",
        "        for fc in arcpy.ListFeatureClasses(feature_dataset=ds):\n",
        "            fcpath = os.path.join(arcpy.env.workspace, ds, fc)\n",
        "            print('-'+fc)\n",
        "            fields=arcpy.ListFields(fcpath)\n",
        "            for field in fields:\n",
        "                #print(\"--{0},{1},{2},{3}\"\n",
        "                 #.format(field.name, field.type, field.length,field.domain))\n",
        "                w.writerow((fc,field.name, field.type, field.length,field.domain))\n",
        "csv_file.close\n",
        "print('**********************')\n",
        "print('**********************')\n",
        "print('********done**********')\n",
        "print('**********************')\n",
        "        \n",
        "\n",
        "## this is the formay to find it later down    \n",
        "#print(gdb_domains[gdb_domain_names=='DmGeometryType'].domainType)\n",
        "#print(gdb_domains[gdb_domain_names=='DmGeometryType'].name)"
      ],
      "execution_count": null,
      "outputs": []
    },
    {
      "cell_type": "code",
      "metadata": {
        "id": "WL8hzH9Lnpam"
      },
      "source": [
        "#MAIN CODE, READS DOMAINS, SUBTYPES AND FIND OUT UNUSED DOMAINS\n",
        "#read datasets inside the gdb\n",
        "datasets = arcpy.ListDatasets(feature_type='feature')\n",
        "datasets = [''] + datasets if datasets is not None else []\n",
        "header=['Featureclass','SubType','DefiningSTField','DefiningValue','FieldName','DefaultValue','FieldDomain']\n",
        "\n",
        "# get all the GDB domains\n",
        "gdb_domains=arcpy.da.ListDomains(arcpy.env.workspace)\n",
        "gdb_domain_names=[]\n",
        "gdb_used_domains=[]\n",
        "gdb_not_used_domains=[]\n",
        "\n",
        "with open(csv_path,'w', newline='') as csv_file:\n",
        "    print(header)\n",
        "    w=csv.writer(csv_file)\n",
        "    w.writerow(header)\n",
        "    for ds in datasets:\n",
        "        print('##'+ds)\n",
        "        for fc in arcpy.ListFeatureClasses(feature_dataset=ds):\n",
        "            fcpath = os.path.join(arcpy.env.workspace, ds, fc)\n",
        "            \n",
        "            #grant permisions\n",
        "            try:\n",
        "                arcpy.ChangePrivileges_management(fcpath, \"sde\", \"GRANT\", \"GRANT\")\n",
        "                arcpy.ChangePrivileges_management(fcpath, \"FNSW\", \"GRANT\", \"GRANT\")\n",
        "                arcpy.ChangePrivileges_management(fcpath, \"DBO\", \"GRANT\", \"GRANT\")\n",
        "            except:\n",
        "                pass\n",
        "            print('-'+fc)\n",
        "            subtypes=arcpy.da.ListSubtypes(fcpath)\n",
        "            print('..')\n",
        "            for st in subtypes:\n",
        "                stname=subtypes[st]['Name']\n",
        "                deffield=subtypes[st]['SubtypeField']\n",
        "                #print (stname)\n",
        "                fields=subtypes[st]['FieldValues']\n",
        "                for field, fieldvals in list(fields.items()):\n",
        "                    if stname.lower()==fc.lower():\n",
        "                        stname=''\n",
        "                        print('.')\n",
        "                    if not fieldvals[1] is None:\n",
        "                        #print('-subtype:{0} defvalue:{1} DefiningField: {2}-Field:{3} -DefaultValue:{4} -Domain:{5}'\n",
        "                            #.format(stname,st,deffield,field, fieldvals[0],fieldvals[1].name))\n",
        "                        w.writerow((fc,stname,deffield,st,field, fieldvals[0],fieldvals[1].name))\n",
        "                        gdb_used_domains.append(fieldvals[1].name)\n",
        "                        #print('...')\n",
        "                    else:\n",
        "                        w.writerow((fc,stname,deffield,st,field, fieldvals[0],fieldvals[1]))\n",
        "                        #print('.....')\n",
        "                        #print('-subtype:{0} defvalue:{1} DefiningField: {2}-Field:{3} -DefaultValue:{4} -Domain:{5}'\n",
        "                            #.format(stname,deffield,st,field, fieldvals[0],fieldvals[1])            \n",
        "\n",
        "\n",
        "\n",
        "csv_file.close\n",
        "print('**********************')\n",
        "print('**********************')\n",
        "print('********done**********')\n",
        "print('**********************')\n",
        "print('**********************')\n",
        "        \n",
        "## this is the formay to find it later down    \n",
        "#print(gdb_domains[gdb_domain_names=='DmGeometryType'].domainType)\n",
        "#print(gdb_domains[gdb_domain_names=='DmGeometryType'].name)"
      ],
      "execution_count": null,
      "outputs": []
    },
    {
      "cell_type": "code",
      "metadata": {
        "id": "N-pa66e7nt72"
      },
      "source": [
        "#this was for somethig else, now not necessary I think\n",
        "# you have to read all the domains of the GDB first, then you can find the domains properties later down\n",
        "csv_logpath=r\"D:\\Users\\Rogger.Correa\\Downloads\\gdbalterationlogGISR.csv\"\n",
        "header2=['changes','changetype','d.name','d.owner','d.type','d.domainType','d.splitPolicy']\n",
        "gdb_not_used_domains=[]\n",
        "\n",
        "with open(csv_logpath,'w', newline='') as csv_logfile:\n",
        "    print(header)\n",
        "    w=csv.writer(csv_logfile)\n",
        "    w.writerow(header2)    \n",
        "    \n",
        "    arcpy.DisconnectUser(arcpy.env.workspace, 'ALL')\n",
        "    counter=0\n",
        "    for d in gdb_domains:\n",
        "            counter+=1\n",
        "            gdb_domain_names.append(d.name)\n",
        "            #print('.')\n",
        "            print(d.name)\n",
        "            if counter%100==0: # every 30 refresh the disconection of the WS\n",
        "                arcpy.DisconnectUser(arcpy.env.workspace, 'ALL')\n",
        "                print('WS disconections refreshed- ',counter)\n",
        "            try:\n",
        "                arcpy.management.AlterDomain(arcpy.env.workspace, d.name, d.name, d.description, \"DUPLICATE\", \"DEFAULT\")\n",
        "                #print('splitpolicy','changed',d.name,d.owner,d.type,d.domainType)\n",
        "                w.writerow(('splitpolicy','changed',d.name,d.owner,d.type,d.domainType,d.splitPolicy))\n",
        "                #arcpy.DisconnectUser(arcpy.env.workspace, 'ALL')\n",
        "            except:\n",
        "                #print('splitpolicy','not_changed',d.name,d.owner,d.type,d.domainType)\n",
        "                w.writerow(('splitpolicy','not_changed',d.name,d.owner,d.type,d.domainType,d.splitPolicy))\n",
        "                pass            \n",
        "            #This bit deletes un-used domains\n",
        "\n",
        "            if d.name not in gdb_used_domains:\n",
        "                #print('notused',d.name)\n",
        "                w.writerow(('not used','deleted',d.name,d.owner,d.type,d.domainType))\n",
        "                gdb_not_used_domains.append(d.name)\n",
        "                #delete domains\n",
        "                try:\n",
        "                    arcpy.DeleteDomain_management(arcpy.env.workspace, d.name)\n",
        "                except:\n",
        "                    #print(d.name, 'could not be deleted')\n",
        "                    w.writerow(('not used','not_deleted',d.name,d.owner,d.type,d.domainType))\n",
        "                    pass                   \n",
        "csv_logfile.close\n",
        "print('**********************')\n",
        "print('**********************')\n",
        "print('********done**********')\n",
        "print('**********************')\n",
        "print('**********************')"
      ],
      "execution_count": null,
      "outputs": []
    }
  ]
}